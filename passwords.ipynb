{
 "cells": [
  {
   "cell_type": "code",
   "execution_count": 1,
   "id": "9821174f",
   "metadata": {},
   "outputs": [],
   "source": [
    "user = 'etl'\n",
    "password = 'melo1234'\n",
    "SERVERNAME = 'DESKTOP-DRB7DGT\\DANYA'\n",
    "DB = 'bikestores'\n",
    "\n",
    "\n",
    "POSTGRES_PORT = '5432'\n",
    "POSTGRES_USERNAME = 'etl' ## CHANGE THIS TO YOUR PANOPLY/POSTGRES USERNAME\n",
    "POSTGRES_PASSWORD = 'melo1234' ## CHANGE THIS TO YOUR PANOPLY/POSTGRES PASSWORD\n",
    "POSTGRES_DBNAME = 'adventureworks' ## CHANGE THIS TO YOUR DATABASE NAME\n",
    "server_pg='localhost'"
   ]
  },
  {
   "cell_type": "code",
   "execution_count": null,
   "id": "fd9cc344",
   "metadata": {},
   "outputs": [],
   "source": []
  }
 ],
 "metadata": {
  "kernelspec": {
   "display_name": "Python 3 (ipykernel)",
   "language": "python",
   "name": "python3"
  },
  "language_info": {
   "codemirror_mode": {
    "name": "ipython",
    "version": 3
   },
   "file_extension": ".py",
   "mimetype": "text/x-python",
   "name": "python",
   "nbconvert_exporter": "python",
   "pygments_lexer": "ipython3",
   "version": "3.10.1"
  }
 },
 "nbformat": 4,
 "nbformat_minor": 5
}
