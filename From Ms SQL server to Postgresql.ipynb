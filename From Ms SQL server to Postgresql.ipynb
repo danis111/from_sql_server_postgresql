{
 "cells": [
  {
   "cell_type": "code",
   "execution_count": 1,
   "id": "52d0eb4c",
   "metadata": {},
   "outputs": [],
   "source": [
    "%run ./passwords.ipynb"
   ]
  },
  {
   "cell_type": "code",
   "execution_count": 2,
   "id": "88724709",
   "metadata": {},
   "outputs": [],
   "source": [
    "import pandas as pd\n",
    "import sqlalchemy\n",
    "import pyodbc\n",
    "\n",
    "\n",
    "\n",
    "\n",
    "def Extract_from_mssql():\n",
    "    \n",
    "    try:\n",
    "        total=0\n",
    "        engine_mssql = sqlalchemy.create_engine(\n",
    "                    f\"mssql+pyodbc://{user}:{password}@{SERVERNAME}/{DB}?driver=ODBC+Driver+17+for+SQL+Server\",\n",
    "                    fast_executemany=True)\n",
    "        txt='''SELECT SCHEMA_NAME(schema_id)+'.'+name AS SchemaTable FROM sys.tables\n",
    "                where name not in('targets','BTCUSDT','index_logs') '''\n",
    "        tables = pd.read_sql_query(txt,engine_mssql)\n",
    "        for tab in tables[\"SchemaTable\"]:\n",
    "            txt=f\"select*from {tab}\"\n",
    "            df = pd.read_sql_query(txt,engine_mssql)\n",
    "            \n",
    "            total=total+import_to_Postgresql(df,tab)\n",
    "                \n",
    "    except Exception as e:\n",
    "        print(\"error\")\n",
    "\n",
    "    finally:\n",
    "        print(\"\")\n",
    "        print(\"Result:\")\n",
    "        print(total,\"rows have been totally imported from MS SQL server to PostgreSQL\")\n",
    "        \n",
    "def import_to_Postgresql(df,tab):\n",
    "    try:\n",
    "        \n",
    "        engine_Psql = sqlalchemy.create_engine(f'postgresql://{POSTGRES_USERNAME}:{POSTGRES_PASSWORD}@{server_pg}:{POSTGRES_PORT}/{POSTGRES_DBNAME}')\n",
    "        print(f' {len(df)} rows have been imported to postgreSQL for table {tab}')\n",
    "        \n",
    "        df.to_sql(f'gala_{tab}',engine_Psql,if_exists='replace',index=False)\n",
    "        print(\"success\")\n",
    "        return len(df)\n",
    "        \n",
    "    except Exception as e:\n",
    "        print(\"error\")    "
   ]
  },
  {
   "cell_type": "code",
   "execution_count": 3,
   "id": "dd9ec73a",
   "metadata": {},
   "outputs": [
    {
     "name": "stdout",
     "output_type": "stream",
     "text": [
      " 7 rows have been imported to postgreSQL for table production.categories\n",
      "success\n",
      " 9 rows have been imported to postgreSQL for table production.brands\n",
      "success\n",
      " 321 rows have been imported to postgreSQL for table production.products\n",
      "success\n",
      " 1445 rows have been imported to postgreSQL for table sales.customers\n",
      "success\n",
      " 3 rows have been imported to postgreSQL for table sales.stores\n",
      "success\n",
      " 10 rows have been imported to postgreSQL for table sales.staffs\n",
      "success\n",
      " 1615 rows have been imported to postgreSQL for table sales.orders\n",
      "success\n",
      " 4722 rows have been imported to postgreSQL for table sales.order_items\n",
      "success\n",
      " 939 rows have been imported to postgreSQL for table production.stocks\n",
      "success\n",
      "\n",
      "Result:\n",
      "9071 rows have been totally imported from MS SQL server to PostgreSQL\n"
     ]
    }
   ],
   "source": [
    "Extract_from_mssql()"
   ]
  },
  {
   "cell_type": "code",
   "execution_count": null,
   "id": "2c232ec9",
   "metadata": {},
   "outputs": [],
   "source": []
  }
 ],
 "metadata": {
  "kernelspec": {
   "display_name": "Python 3 (ipykernel)",
   "language": "python",
   "name": "python3"
  },
  "language_info": {
   "codemirror_mode": {
    "name": "ipython",
    "version": 3
   },
   "file_extension": ".py",
   "mimetype": "text/x-python",
   "name": "python",
   "nbconvert_exporter": "python",
   "pygments_lexer": "ipython3",
   "version": "3.10.1"
  }
 },
 "nbformat": 4,
 "nbformat_minor": 5
}
